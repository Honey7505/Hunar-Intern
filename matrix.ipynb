{
 "cells": [
  {
   "cell_type": "code",
   "execution_count": 1,
   "id": "20091f1f-0b0c-4b4e-bcb9-1ae4169fd1b6",
   "metadata": {},
   "outputs": [],
   "source": [
    "import numpy as np"
   ]
  },
  {
   "cell_type": "code",
   "execution_count": 4,
   "id": "60e89787-6c82-4887-84e8-4b4ecf665a85",
   "metadata": {},
   "outputs": [
    {
     "name": "stdin",
     "output_type": "stream",
     "text": [
      "Enter the order of the square matrix (n x n):  3\n"
     ]
    },
    {
     "name": "stdout",
     "output_type": "stream",
     "text": [
      "Enter the 9 elements row-wise:\n"
     ]
    }
   ],
   "source": [
    "n = int(input(\"Enter the order of the square matrix (n x n): \"))\n",
    "print(f\"Enter the {n*n} elements row-wise:\")"
   ]
  },
  {
   "cell_type": "code",
   "execution_count": 5,
   "id": "55179db5-5482-4347-9cd1-1f6362b979e9",
   "metadata": {},
   "outputs": [
    {
     "name": "stdin",
     "output_type": "stream",
     "text": [
      "Row 1:  1 2 3\n",
      "Row 2:  4 5 6\n",
      "Row 3:  7 8 9\n"
     ]
    }
   ],
   "source": [
    "elements = []\n",
    "for i in range(n):\n",
    "    row = list(map(int, input(f\"Row {i+1}: \").split()))\n",
    "    while len(row) != n:\n",
    "        print(f\"Please enter exactly {n} elements.\")\n",
    "        row = list(map(int, input(f\"Row {i+1}: \").split()))\n",
    "    elements.append(row)"
   ]
  },
  {
   "cell_type": "code",
   "execution_count": 6,
   "id": "1659693f-717e-42e9-afbb-9c3e6f47eb24",
   "metadata": {},
   "outputs": [],
   "source": [
    "matrix = np.array(elements)"
   ]
  },
  {
   "cell_type": "code",
   "execution_count": 7,
   "id": "bbca4155-de3a-44cf-a168-2390a676c39f",
   "metadata": {},
   "outputs": [],
   "source": [
    "diagonal_sum = 0\n",
    "for i in range(n):\n",
    "    diagonal_sum += matrix[i][i]\n"
   ]
  },
  {
   "cell_type": "code",
   "execution_count": 8,
   "id": "a8c719dd-4110-41f9-96f1-835f38b85c3d",
   "metadata": {},
   "outputs": [
    {
     "name": "stdout",
     "output_type": "stream",
     "text": [
      "Matrix:\n",
      "[[1 2 3]\n",
      " [4 5 6]\n",
      " [7 8 9]]\n",
      "Sum of diagonal elements: 15\n"
     ]
    }
   ],
   "source": [
    "print(\"Matrix:\")\n",
    "print(matrix)\n",
    "print(\"Sum of diagonal elements:\", diagonal_sum)"
   ]
  },
  {
   "cell_type": "code",
   "execution_count": null,
   "id": "3faf866b-a29c-4499-86c4-d317c02f84dc",
   "metadata": {},
   "outputs": [],
   "source": []
  }
 ],
 "metadata": {
  "kernelspec": {
   "display_name": "Python 3 (ipykernel)",
   "language": "python",
   "name": "python3"
  },
  "language_info": {
   "codemirror_mode": {
    "name": "ipython",
    "version": 3
   },
   "file_extension": ".py",
   "mimetype": "text/x-python",
   "name": "python",
   "nbconvert_exporter": "python",
   "pygments_lexer": "ipython3",
   "version": "3.12.7"
  }
 },
 "nbformat": 4,
 "nbformat_minor": 5
}
